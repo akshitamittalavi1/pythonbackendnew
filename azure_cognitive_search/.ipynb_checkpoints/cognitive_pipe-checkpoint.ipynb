{
 "cells": [
  {
   "cell_type": "code",
   "execution_count": 1,
   "metadata": {},
   "outputs": [
    {
     "name": "stdout",
     "output_type": "stream",
     "text": [
      "Requirement already satisfied: pypdf in c:\\users\\dudukuntasashidharre\\work\\work\\dewa\\env10\\lib\\site-packages (3.15.4)\n",
      "Note: you may need to restart the kernel to use updated packages.\n"
     ]
    }
   ],
   "source": [
    "%pip install pypdf"
   ]
  },
  {
   "cell_type": "code",
   "execution_count": 2,
   "metadata": {
    "tags": []
   },
   "outputs": [],
   "source": [
    "from pypdf import PdfReader\n",
    "import json\n",
    "import time\n",
    "import openai\n",
    "import pandas as pd\n",
    "import numpy as np\n",
    "import json\n",
    "import os\n",
    "import sys\n",
    "import uuid\n",
    "import openai\n",
    "from tenacity import (\n",
    "    retry,\n",
    "    stop_after_attempt,\n",
    "    wait_random_exponential,\n",
    ")  # for exponential backoff\n",
    "\n",
    "from azure.core.exceptions import AzureError\n",
    "# from azure.cosmos import CosmosClient, PartitionKey\n",
    "\n",
    "# Import libraries  \n",
    "import os \n",
    "import openai \n",
    "import json  \n",
    "import requests  \n",
    "from azure.storage.blob import BlobServiceClient\n",
    "from azure.core.credentials import AzureKeyCredential  \n",
    "from azure.search.documents import SearchClient  \n",
    "from azure.search.documents.indexes import SearchIndexClient, SearchIndexerClient  \n",
    "from azure.storage.blob import BlobServiceClient, BlobClient, ContainerClient\n",
    "from azure.search.documents.models import Vector  \n",
    "from azure.search.documents.indexes.models import (  \n",
    "    SearchIndex,  \n",
    "    SearchField,\n",
    "    SearchFieldDataType,  \n",
    "    SimpleField,\n",
    "    FieldMapping,\n",
    "    SearchableField,  \n",
    "    SearchIndex,  \n",
    "    VectorSearch,  \n",
    "    VectorSearchAlgorithmConfiguration,  \n",
    "    SearchIndexerDataContainer,  \n",
    "    SearchIndexer,  \n",
    "    SearchIndexerDataSourceConnection,  \n",
    "    InputFieldMappingEntry,  \n",
    "    OutputFieldMappingEntry,  \n",
    "    SearchIndexerSkillset,\n",
    "    CorsOptions,\n",
    "    IndexingParameters,\n",
    "    IndexerStatus,\n",
    "    SearchIndexerDataContainer, SearchIndex, SearchIndexer, SimpleField, SearchFieldDataType,\n",
    "    EntityRecognitionSkill, InputFieldMappingEntry, OutputFieldMappingEntry, SearchIndexerSkillset,\n",
    "    CorsOptions, IndexingSchedule, SearchableField, IndexingParameters, SearchIndexerDataSourceConnection\n",
    ")  \n",
    "from azure.search.documents.indexes.models import WebApiSkill  \n",
    "from azure.storage.blob import BlobServiceClient  \n",
    "from azure.search.documents.indexes import SearchIndexerClient  \n",
    "from azure.search.documents.indexes.models import (  \n",
    "    SearchIndexerDataContainer,  \n",
    "    SearchIndexerDataSourceConnection,  \n",
    ")  \n",
    "from IPython.display import Image, display \n",
    "\n",
    "from tenacity import (\n",
    "    retry,\n",
    "    stop_after_attempt,\n",
    "    wait_random_exponential,\n",
    ")  # for exponential backoff"
   ]
  },
  {
   "cell_type": "code",
   "execution_count": 3,
   "metadata": {
    "tags": []
   },
   "outputs": [],
   "source": [
    "class search_pipeline:\n",
    "    def __init__(self, index_name):\n",
    "        openai.api_key= \"8b52e7600cd74b09a9152b30d3a572bd\"\n",
    "        openai.api_type= \"azure\"\n",
    "        openai.api_base= \"https://ct-uaen-poc-qna-openai.openai.azure.com/\"\n",
    "        openai.api_version =\"2023-06-01-preview\"\n",
    "        self.service_endpoint = \"https://ct-uaen-poc-qna-srch.search.windows.net\"\n",
    "        self.cog_key = \"IPITLiokgoqHGRkZ7CILkW8Tspa0J5gwZfXRwS30JQAzSeAAFzL3\" \n",
    "        self.index_name=index_name\n",
    "\n",
    "    def create_embedding(self, path):\n",
    "        with open(path, \"r\") as json_file:\n",
    "            data = json.load(json_file)\n",
    "        d=[]\n",
    "        c=1000\n",
    "        for i, j in data.items():\n",
    "            document_embedding = openai.Embedding.create(input = j, engine='qna-embedding-model')['data'][0]['embedding']\n",
    "            di={'id':str(c), 'content':j, 'contentVector':document_embedding}\n",
    "            d.append(di)\n",
    "            c+=1\n",
    "        return d\n",
    "    \n",
    "\n",
    "    def create_index(self):\n",
    "        # Create a search index\n",
    "        credential = AzureKeyCredential(self.cog_key)\n",
    "        index_client = SearchIndexClient(\n",
    "        endpoint=self.service_endpoint, credential=credential)\n",
    "        \n",
    "        fields = [\n",
    "            SimpleField(name=\"id\", type=SearchFieldDataType.String, key=True),\n",
    "            SearchableField(name=\"content\", type=SearchFieldDataType.String, retrievable=True,),\n",
    "            SimpleField(name=\"department\", type=SearchFieldDataType.String, retrievable=True, filterable=True),\n",
    "            SimpleField(name=\"user_id\", type=SearchFieldDataType.String, retrievable=True, filterable=True,),\n",
    "            SimpleField(name=\"organisation\", type=SearchFieldDataType.String, retrievable=True, filterable=True,),\n",
    "            SearchField(name=\"contentVector\", type=SearchFieldDataType.Collection(SearchFieldDataType.Single),\n",
    "                        searchable=True, vector_search_dimensions=1536, vector_search_configuration=\"my-vector-config\"),\n",
    "]\n",
    "\n",
    "        vector_search = VectorSearch(\n",
    "            algorithm_configurations=[\n",
    "                VectorSearchAlgorithmConfiguration(\n",
    "                    name=\"my-vector-config\",\n",
    "                    kind=\"hnsw\",\n",
    "                    hnsw_parameters={\n",
    "                        \"m\": 4,\n",
    "                        \"efConstruction\": 400,\n",
    "                        \"efSearch\": 500,\n",
    "                        \"metric\": \"cosine\"\n",
    "                    }\n",
    "                )\n",
    "            ]\n",
    "        )\n",
    "\n",
    "\n",
    "        # Create the search index \n",
    "        index = SearchIndex(name=self.index_name, fields=fields, vector_search=vector_search,)\n",
    "        result = index_client.create_or_update_index(index)\n",
    "        print(f' {result.name} created')\n",
    "\n",
    "    \n",
    "    def update_index(self, path):\n",
    "        begin=time.time()\n",
    "        documents=self.create_embedding(path)\n",
    "        middle=time.time()\n",
    "        embedding_time=middle-begin\n",
    "        print(f'embedding time {embedding_time} seconds')\n",
    "        search_client = SearchClient(endpoint=self.service_endpoint, index_name=self.index_name, credential=AzureKeyCredential(self.cog_key))\n",
    "        b=time.time()\n",
    "        for i in documents:\n",
    "            result = search_client.upload_documents(i)\n",
    "            print(\"index uploaded!\")\n",
    "        e=time.time()\n",
    "        index_time=b-e\n",
    "        print(f'indexer time {index_time} seconds')\n",
    "\n",
    "    def generate_answer(self, query):\n",
    "        query_vector = openai.Embedding.create(input=[query],engine=\"qna-embedding-model\")[\"data\"][0][\"embedding\"]\n",
    "\n",
    "        search_client = SearchClient(endpoint=self.service_endpoint, index_name=self.index_name, credential=AzureKeyCredential(self.cog_key)) \n",
    "\n",
    "        results = search_client.search(  \n",
    "            search_text=None,  \n",
    "            vector=query_vector,\n",
    "            top_k=2,  \n",
    "            vector_fields=\"contentVector\",\n",
    "            select=[\"content\"]\n",
    "        )  \n",
    "\n",
    "        input_text = \"\"\n",
    "        for result in results:\n",
    "            input_text += result['content']      \n",
    "\n",
    "        # print(input_text)\n",
    "        ans = openai.ChatCompletion.create(engine=\"qna-deployment-model\",\n",
    "        messages=[\n",
    "                {'role': 'system','content': f'You are a QnA assistant strictly answer the following question based on the context given in delimited by triple double quotes \"\"\"{input_text}\"\"\". If answer is not present in the context than reply \"Information is not present in the knowledge base\" only .'},\n",
    "                {'role': 'user', 'content':query}])\n",
    "\n",
    "        return (ans[\"choices\"][0][\"message\"][\"content\"]) \n",
    "\n",
    "\n",
    "    def delete_docs_in_indexer(self, id):\n",
    "        credential = AzureKeyCredential(self.cog_key)\n",
    "        client = SearchClient(endpoint=self.service_endpoint,\n",
    "                            index_name=self.index_name,\n",
    "                            credential=credential)\n",
    "\n",
    "        # Delete the document\n",
    "        client.delete_documents([{\"@search.action\": \"delete\", \"id\": id}])\n",
    "\n",
    "        print('File deleted successful')"
   ]
  },
  {
   "cell_type": "code",
   "execution_count": 4,
   "metadata": {
    "tags": []
   },
   "outputs": [],
   "source": [
    "cognitive=search_pipeline(\"dewa-indexer-rbac2\")"
   ]
  },
  {
   "cell_type": "code",
   "execution_count": 20,
   "metadata": {
    "collapsed": true,
    "jupyter": {
     "outputs_hidden": true
    },
    "tags": []
   },
   "outputs": [
    {
     "name": "stdout",
     "output_type": "stream",
     "text": [
      "embedding time 41.510130167007446 seconds\n",
      "index uploaded!\n",
      "index uploaded!\n",
      "index uploaded!\n",
      "index uploaded!\n",
      "index uploaded!\n",
      "index uploaded!\n",
      "index uploaded!\n",
      "index uploaded!\n",
      "index uploaded!\n",
      "index uploaded!\n",
      "index uploaded!\n",
      "index uploaded!\n",
      "index uploaded!\n",
      "index uploaded!\n",
      "index uploaded!\n",
      "index uploaded!\n",
      "index uploaded!\n",
      "index uploaded!\n",
      "index uploaded!\n",
      "index uploaded!\n",
      "index uploaded!\n",
      "index uploaded!\n",
      "index uploaded!\n",
      "index uploaded!\n",
      "index uploaded!\n",
      "index uploaded!\n",
      "index uploaded!\n",
      "index uploaded!\n",
      "index uploaded!\n",
      "index uploaded!\n",
      "index uploaded!\n",
      "index uploaded!\n",
      "index uploaded!\n",
      "index uploaded!\n",
      "index uploaded!\n",
      "index uploaded!\n",
      "index uploaded!\n",
      "index uploaded!\n",
      "index uploaded!\n",
      "index uploaded!\n",
      "index uploaded!\n",
      "index uploaded!\n",
      "index uploaded!\n",
      "index uploaded!\n",
      "index uploaded!\n",
      "index uploaded!\n",
      "index uploaded!\n",
      "index uploaded!\n",
      "index uploaded!\n",
      "index uploaded!\n",
      "index uploaded!\n",
      "index uploaded!\n",
      "index uploaded!\n",
      "index uploaded!\n",
      "index uploaded!\n",
      "index uploaded!\n",
      "index uploaded!\n",
      "index uploaded!\n",
      "index uploaded!\n",
      "index uploaded!\n",
      "index uploaded!\n",
      "index uploaded!\n",
      "index uploaded!\n",
      "index uploaded!\n",
      "index uploaded!\n",
      "index uploaded!\n",
      "index uploaded!\n",
      "index uploaded!\n",
      "index uploaded!\n",
      "index uploaded!\n",
      "index uploaded!\n",
      "index uploaded!\n",
      "index uploaded!\n",
      "index uploaded!\n",
      "index uploaded!\n",
      "index uploaded!\n",
      "index uploaded!\n",
      "index uploaded!\n",
      "index uploaded!\n",
      "index uploaded!\n",
      "index uploaded!\n",
      "index uploaded!\n",
      "index uploaded!\n",
      "index uploaded!\n",
      "index uploaded!\n",
      "index uploaded!\n",
      "index uploaded!\n",
      "index uploaded!\n",
      "index uploaded!\n",
      "index uploaded!\n",
      "index uploaded!\n",
      "index uploaded!\n",
      "index uploaded!\n",
      "index uploaded!\n",
      "index uploaded!\n",
      "index uploaded!\n",
      "index uploaded!\n",
      "index uploaded!\n",
      "index uploaded!\n",
      "index uploaded!\n",
      "index uploaded!\n",
      "index uploaded!\n",
      "index uploaded!\n",
      "index uploaded!\n",
      "index uploaded!\n",
      "index uploaded!\n",
      "index uploaded!\n",
      "index uploaded!\n",
      "index uploaded!\n",
      "index uploaded!\n",
      "index uploaded!\n",
      "index uploaded!\n",
      "index uploaded!\n",
      "index uploaded!\n",
      "index uploaded!\n",
      "index uploaded!\n",
      "index uploaded!\n",
      "index uploaded!\n",
      "index uploaded!\n",
      "index uploaded!\n",
      "index uploaded!\n",
      "index uploaded!\n",
      "index uploaded!\n",
      "index uploaded!\n",
      "index uploaded!\n",
      "index uploaded!\n",
      "index uploaded!\n",
      "index uploaded!\n",
      "index uploaded!\n",
      "index uploaded!\n",
      "index uploaded!\n",
      "index uploaded!\n",
      "index uploaded!\n",
      "index uploaded!\n",
      "index uploaded!\n",
      "index uploaded!\n",
      "index uploaded!\n",
      "index uploaded!\n",
      "index uploaded!\n",
      "index uploaded!\n",
      "index uploaded!\n",
      "index uploaded!\n",
      "index uploaded!\n",
      "index uploaded!\n",
      "indexer time -20.196770668029785 seconds\n"
     ]
    }
   ],
   "source": [
    "cognitive.update_index(r'json_data\\DEWA Sustainability Report 2020_AR (1).json')"
   ]
  },
  {
   "cell_type": "code",
   "execution_count": null,
   "metadata": {},
   "outputs": [],
   "source": []
  },
  {
   "cell_type": "code",
   "execution_count": 67,
   "metadata": {
    "tags": []
   },
   "outputs": [
    {
     "data": {
      "text/plain": [
       "'Emirates ID refers to a unique identification number issued to residents of the United Arab Emirates (UAE) that is linked to their personal information, including name, date of birth, nationality, and residency status. It is used for various purposes, such as accessing government services or opening a bank account, and is required for all citizens and residents of the UAE.'"
      ]
     },
     "execution_count": 67,
     "metadata": {},
     "output_type": "execute_result"
    }
   ],
   "source": [
    "cognitive.generate_answer('what is emirates id')"
   ]
  },
  {
   "cell_type": "code",
   "execution_count": 68,
   "metadata": {
    "tags": []
   },
   "outputs": [],
   "source": [
    "query='what is emirates id'"
   ]
  },
  {
   "cell_type": "code",
   "execution_count": 7,
   "metadata": {
    "tags": []
   },
   "outputs": [],
   "source": [
    "search_client = SearchClient(endpoint=\"https://ct-uaen-poc-qna-srch.search.windows.net\", index_name=\"dewa-indexer-rbac2\", credential=AzureKeyCredential(\"IPITLiokgoqHGRkZ7CILkW8Tspa0J5gwZfXRwS30JQAzSeAAFzL3\")) "
   ]
  },
  {
   "cell_type": "code",
   "execution_count": 69,
   "metadata": {
    "tags": []
   },
   "outputs": [],
   "source": [
    "query_vector = openai.Embedding.create(input=[query],engine=\"qna-embedding-model\")[\"data\"][0][\"embedding\"]"
   ]
  },
  {
   "cell_type": "code",
   "execution_count": 122,
   "metadata": {
    "tags": []
   },
   "outputs": [],
   "source": [
    "results = search_client.search(  \n",
    "            search_text=None,  \n",
    "            vector=query_vector,\n",
    "            top_k=2,  \n",
    "            vector_fields=\"contentVector\",\n",
    "            select=[\"id\",\"content\"]\n",
    "        )  "
   ]
  },
  {
   "cell_type": "code",
   "execution_count": 123,
   "metadata": {
    "tags": []
   },
   "outputs": [],
   "source": [
    "context=''\n",
    "for result in results:\n",
    "    r=f'Content Id: {result[\"id\"]}: \\n\\n'+ result['content']+'\\n-------------------------------------------------------------------------------------\\n\\n'\n",
    "    context=context+r"
   ]
  },
  {
   "cell_type": "code",
   "execution_count": 124,
   "metadata": {
    "tags": []
   },
   "outputs": [],
   "source": [
    "final_prompt = f\"\"\"I am a DEWA Company Customer Care Bot, and I operate with unwavering precision, adhering to a strict set of rules and guidelines. \n",
    "It is imperative to remember that my responses are solely derived from the context delimited by triple asterisks.\n",
    "\n",
    "context :- ***{context}***\n",
    "output_format_instruction :- ###Output a json file with answer, content id, similar queries from which answer is extracted as keys###\n",
    "\n",
    "I am committed to maintaining a disciplined approach in delivering accurate information, for that I must follow rules given below:-\n",
    "Rule 1: I shall omit any extraneous phrases such as \"The provided CONTEXT includes information about...\" in my final answers.\n",
    "Rule 2: When necessary, I will employ bullet points or markdown for tables to ensure a concise and structured response.\n",
    "Rule 3: I operate under the principle that my responses are based solely on the provided CONTEXT, and I do not draw upon previous queries or interactions.\n",
    "Rule 4: I will diligently verify if my responses adhere to the desired format, as outlined in the output_format_instruction delimited by triple dollar signs.\n",
    "Rule 5: In addition to providing the answer, I will include a list of 3 similar Queries related to the user's query to assist further.\n",
    "\n",
    "For every type of query, I adhere to a systematic approach proveided in 5 steps:\n",
    "Step 1: I meticulously examine the user's query.\n",
    "Step 2: I rigorously extract the answer from the supplied context.\n",
    "Step 3: In situations where the query deviates from the provided context, I will persistently attempt to find the correct answer without losing focus. However, if the answer remains elusive, I will respond assertively with \"I am unable to provide information beyond the context given.\"\n",
    "Step 4: Following a rigorous protocol, I diligently review the answer obtained from the context to ensure its accuracy and relevance. In cases where the answer is not immediately apparent, I persistently make further efforts to pinpoint the correct response while maintaining a disciplined approach. However, if despite all efforts, the answer remains elusive and unattainable, I will respond assertively with \"Sorry, this information is out of my knowledge base.\"\n",
    "Step 5: I deliver my responses exclusively in the form of a JSON file, with the answer as the solitary key.\n",
    "\n",
    "My commitment is to provide you with accurate and disciplined assistance within the confines of the provided context. Please proceed with your query, and I shall respond with precision and adherence to the established rules and guidelines.\n",
    "\n",
    "Mandatory Rule :- Output response should  always follow the following format:\n",
    "-Output a JSON file with answer, content id, similar queries as keys\n",
    "-Only output a JSON file, refrain from giving text outside JSON file\n",
    "\"\"\""
   ]
  },
  {
   "cell_type": "code",
   "execution_count": 125,
   "metadata": {
    "tags": []
   },
   "outputs": [],
   "source": [
    "ans = openai.ChatCompletion.create(engine=\"qna-deployment-model\",\n",
    "        messages=[\n",
    "                {'role': 'system','content': final_prompt},\n",
    "                {'role': 'user', 'content':query}])"
   ]
  },
  {
   "cell_type": "code",
   "execution_count": 126,
   "metadata": {
    "tags": []
   },
   "outputs": [
    {
     "name": "stdout",
     "output_type": "stream",
     "text": [
      "{\n",
      "  \"answer\": \"Emirates ID is a unique identification number provided to all residents of the United Arab Emirates. It consists of 15 digits and is issued by the Federal Authority for Identity and Citizenship (FAIC). The Emirates ID serves as an important form of identification for obtaining government services and is also required for various official transactions such as opening a bank account or applying for a visa.\",\n",
      "  \"content_id\": [\n",
      "    \"user001_dewa_pii_testing__1__pdf_11\",\n",
      "    \"user001_dewa_pii_testing__1__pdf_8\"\n",
      "  ],\n",
      "  \"similar_queries\": [\n",
      "    \"What is the purpose of the Emirates ID?\",\n",
      "    \"How can I apply for an Emirates ID?\",\n",
      "    \"Is the Emirates ID mandatory for residents of the UAE?\"\n",
      "  ]\n",
      "}\n"
     ]
    }
   ],
   "source": [
    "print(ans[\"choices\"][0][\"message\"][\"content\"])"
   ]
  },
  {
   "cell_type": "code",
   "execution_count": 2,
   "metadata": {},
   "outputs": [
    {
     "name": "stdout",
     "output_type": "stream",
     "text": [
      "User Names: ['user001', 'user001']\n",
      "Document Names: ['dewa_pii_testing__1_', 'dewa_pii_testing__1_']\n",
      "Page IDs: ['11', '8']\n"
     ]
    }
   ],
   "source": [
    "# Sample \"content_id\" values\n",
    "content_ids = [\n",
    "    \"user001_dewa_pii_testing__1__pdf_11\",\n",
    "    \"user001_dewa_pii_testing__1__pdf_8\"\n",
    "]\n",
    "\n",
    "# Initialize lists to store extracted components\n",
    "user_names = []\n",
    "document_names = []\n",
    "page_ids = []\n",
    "\n",
    "# Iterate through each \"content_id\"\n",
    "for content_id in content_ids:\n",
    "    # Split the \"content_id\" using underscores\n",
    "    parts = content_id.split('_')\n",
    "    \n",
    "    # Extract user name, document name, and page ID\n",
    "    if len(parts) >= 4:\n",
    "        user_name = parts[0]  # User name\n",
    "        document_name = \"_\".join(parts[1:-2])  # Document name (excluding user name and page ID)\n",
    "        page_id = parts[-1]  # Page ID\n",
    "        \n",
    "        # Append to respective lists\n",
    "        user_names.append(user_name)\n",
    "        document_names.append(document_name)\n",
    "        page_ids.append(page_id)\n",
    "\n",
    "# Print the extracted components\n",
    "print(\"User Names:\", user_names)\n",
    "print(\"Document Names:\", document_names)\n",
    "print(\"Page IDs:\", page_ids)\n"
   ]
  },
  {
   "cell_type": "code",
   "execution_count": 3,
   "metadata": {},
   "outputs": [
    {
     "name": "stdout",
     "output_type": "stream",
     "text": [
      "[['user001', 'dewa_pii_testing__1_', 11], ['user001', 'dewa_pii_testing__1_', 8]]\n"
     ]
    }
   ],
   "source": [
    "# Sample \"content_id\" values\n",
    "content_ids = [\n",
    "    \"user001_dewa_pii_testing__1__pdf_11\",\n",
    "    \"user001_dewa_pii_testing__1__pdf_8\"\n",
    "]\n",
    "\n",
    "# Initialize a list to store extracted components\n",
    "extracted_components = []\n",
    "\n",
    "# Iterate through each \"content_id\"\n",
    "for content_id in content_ids:\n",
    "    # Split the \"content_id\" using underscores\n",
    "    parts = content_id.split('_')\n",
    "    \n",
    "    # Extract user name, document name, and page ID\n",
    "    if len(parts) >= 4:\n",
    "        user_name = parts[0]  # User name\n",
    "        document_name = \"_\".join(parts[1:-2])  # Document name (excluding user name and page ID)\n",
    "        page_id = int(parts[-1])  # Page ID (converted to integer)\n",
    "        \n",
    "        # Append to the list as [user_name, document_name, page_id]\n",
    "        extracted_components.append([user_name, document_name, page_id])\n",
    "\n",
    "# Print the extracted components\n",
    "print(extracted_components)\n"
   ]
  },
  {
   "cell_type": "code",
   "execution_count": 6,
   "metadata": {},
   "outputs": [
    {
     "name": "stdout",
     "output_type": "stream",
     "text": [
      "[['user001', 'dewa_pii_testing__1_pdf_pdf', 11], ['user001', 'dewa_pii_testing__1_pdf_pdf', 8]]\n"
     ]
    }
   ],
   "source": [
    "# Sample \"content_id\" values\n",
    "content_ids = [\n",
    "    \"user001_dewa_pii_testing__1__pdf_11\",\n",
    "    \"user001_dewa_pii_testing__1__pdf_8\"\n",
    "]\n",
    "\n",
    "# Define a function to extract components\n",
    "def extract_components(content_id):\n",
    "    parts = content_id.split('_')  # Split the content_id by underscores\n",
    "    user = parts[0]\n",
    "    document_name_parts = parts[1:-2]  # Exclude the user and page number parts\n",
    "    document_name = \"_\".join(document_name_parts[:-1]) + \"_\" + parts[-2] + \"_pdf\"  # Add an underscore before \"pdf\"\n",
    "    page_number = int(parts[-1])  # Convert the last part to an integer\n",
    "    return [user, document_name, page_number]\n",
    "\n",
    "# Extract components for each content_id\n",
    "result = [extract_components(content_id) for content_id in content_ids]\n",
    "\n",
    "# Print the result\n",
    "print(result)\n"
   ]
  },
  {
   "cell_type": "code",
   "execution_count": 75,
   "metadata": {
    "tags": []
   },
   "outputs": [
    {
     "name": "stdout",
     "output_type": "stream",
     "text": [
      "Content Id: user001_dewa_pii_testing__1__pdf_11: \n",
      "\n",
      "**Page 1:** \n",
      "  \n",
      "In the heart of Paris, France, resides Pierre, a 42-year-old man born on May 20, 1981. Pierre is a proud \n",
      "French citizen and has made the romantic city of Paris his lifelong home. His Emirates ID is 2345678901, \n",
      "and his French passport bears the number F1234567. Pierre also holds a valid French driver's license, \n",
      "with the number FRDL987654. \n",
      "  \n",
      "Pierre's days are filled with the artistry of being a celebrated pastry chef, crafting exquisite confections \n",
      "that delight the palates of Parisians and tourists alike. After long hours in the patisserie, he returns to his \n",
      "charming Montmartre apartment with views of the Eiffel Tower. To contact Pierre, dial +33-6-1234-5678 \n",
      "(mobile) or +33-1-9876-5432 (landline). For online connections, email him at pierre@email.com or \n",
      "follow his culinary adventures on Instagram under the handle @PastryPierre. \n",
      "  \n",
      "Pierre cherishes his Catholic faith, finding solace in the beautiful cathedrals and churches that grace the \n",
      "city of Paris. His ethnicity is quintessentially French, and he takes pride in preserving the rich culinary \n",
      "and cultural heritage of France, from croissants to impressionist art. \n",
      "  \n",
      "During his leisure hours, Pierre strolls along the Seine, indulges in croissants and café au lait at local \n",
      "bistros, and visits art galleries to draw inspiration from the works of great French artists. His life in Paris \n",
      "is a delicious blend of pastry artistry, spirituality, and the timeless beauty of France. \n",
      "  \n",
      "**Page 2:** \n",
      "  \n",
      "Across the Atlantic Ocean, in the vibrant city of Rio de Janeiro, Brazil, resides Isabella, a 30-year-old \n",
      "woman born on June 10, 1993. She proudly identifies as a Brazilian and has immersed herself in the \n",
      "lively culture of Rio. Isabella's Emirates ID is 3456789012, and her Brazilian passport is marked with the \n",
      "number BR1234567. She holds a valid Brazilian driver's license, with the number BRDL567890. \n",
      "  \n",
      "Isabella's career as a samba dancer has taken her to the stages of Carnival, where her rhythmic moves \n",
      "electrify audiences. After her performances, she finds relaxation in her beachfront apartment, taking in \n",
      "the breathtaking views of Copacabana Beach. To reach Isabella, dial +55-21-9876-54321 (mobile) or +55-\n",
      "21-5678-1234 (landline). For digital connections, send an email to isabella@email.com or follow her \n",
      "dance journey on social media platforms like Facebook, Instagram, and Twitter under the username \n",
      "@SambaIsabella. \n",
      "  \n",
      "\n",
      "-------------------------------------------------------------------------------------\n",
      "\n",
      "Content Id: user001_dewa_pii_testing__1__pdf_8: \n",
      "\n",
      "On the other side of the globe, in New Delhi, India, lives Ayesha, a 31-year-old woman born on August \n",
      "15, 1992. She holds Indian nationality and is deeply connected to the vibrant culture of India. Her \n",
      "Emirates ID is 5432109876, and her Indian passport bears the number INP7654321. Ayesha possesses a \n",
      "valid Indian driver's license, with license number INDL345678. \n",
      "  \n",
      "Ayesha works as a marketing manager in a multinational corporation, navigating the dynamic business \n",
      "landscape of New Delhi. After her workday concludes, she returns to her cozy apartment in a bustling \n",
      "neighborhood. You can get in touch with Ayesha at +91-98765-43210 (mobile) or +91-11-5678-9876 \n",
      "(landline). Ayesha is also active on various social media platforms; you can find her on Facebook, \n",
      "Instagram, and Twitter with the username @MarketingAyesha. \n",
      "  \n",
      "Her faith is rooted in Islam, and she follows the teachings of the Quran with unwavering devotion. \n",
      "Ayesha's ethnicity is primarily Indian, and she cherishes the rich tapestry of traditions and celebrations \n",
      "that come with it. \n",
      "  \n",
      "In her free time, Ayesha explores Delhi's historical landmarks, indulges in delectable street food, and \n",
      "enjoys classical Indian dance performances. Her life in New Delhi is a fusion of cosmopolitan modernity \n",
      "and age-old traditions, creating a beautiful mosaic of experiences. \n",
      " \n",
      "**Page 1:** \n",
      "  \n",
      "Meet Carlos, a 35-year-old man born on July 12, 1988, in Madrid, Spain. Carlos proudly embraces his \n",
      "Spanish nationality and calls the historic city of Madrid his home. His Emirates ID is 6789012345, and his \n",
      "Spanish passport bears the number ES1234567. Carlos is also the holder of a valid Spanish driver's \n",
      "license with the number ESL2345678. \n",
      "  \n",
      "Carlos works as a renowned chef at a Michelin-starred restaurant in the heart of Madrid, where he \n",
      "creates culinary masterpieces that leave diners in awe. After long hours in the kitchen, he retreats to his \n",
      "charming Spanish villa in the countryside. You can reach Carlos at +34-678-123456 (mobile) or +34-91-\n",
      "2345678 (landline). For digital connections, you can email him at carlos@email.com or find him on social \n",
      "media platforms like Facebook, Instagram, and Twitter under the username @ChefCarlos. \n",
      "  \n",
      "His faith is deeply rooted in Catholicism, and he actively participates in local church activities. Carlos's \n",
      "ethnicity is distinctly Spanish, and he takes immense pride in preserving Spain's rich cultural heritage, \n",
      "from flamenco dancing to annual festivals like La Tomatina. \n",
      "  \n",
      "\n",
      "-------------------------------------------------------------------------------------\n",
      "\n",
      "\n"
     ]
    }
   ],
   "source": [
    "print(context)"
   ]
  },
  {
   "cell_type": "code",
   "execution_count": null,
   "metadata": {},
   "outputs": [],
   "source": []
  },
  {
   "cell_type": "code",
   "execution_count": null,
   "metadata": {},
   "outputs": [],
   "source": []
  },
  {
   "cell_type": "code",
   "execution_count": null,
   "metadata": {},
   "outputs": [],
   "source": []
  },
  {
   "cell_type": "code",
   "execution_count": null,
   "metadata": {},
   "outputs": [],
   "source": []
  },
  {
   "cell_type": "code",
   "execution_count": null,
   "metadata": {},
   "outputs": [],
   "source": []
  }
 ],
 "metadata": {
  "kernelspec": {
   "display_name": "Python 3 (ipykernel)",
   "language": "python",
   "name": "python3"
  },
  "language_info": {
   "codemirror_mode": {
    "name": "ipython",
    "version": 3
   },
   "file_extension": ".py",
   "mimetype": "text/x-python",
   "name": "python",
   "nbconvert_exporter": "python",
   "pygments_lexer": "ipython3",
   "version": "3.9.12"
  }
 },
 "nbformat": 4,
 "nbformat_minor": 4
}
