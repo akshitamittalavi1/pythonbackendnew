{
 "cells": [
  {
   "cell_type": "code",
   "execution_count": 1,
   "metadata": {
    "scrolled": true
   },
   "outputs": [],
   "source": [
    "# !pip install azure-cosmos"
   ]
  },
  {
   "cell_type": "code",
   "execution_count": 1,
   "metadata": {},
   "outputs": [],
   "source": [
    "from azure.cosmos import CosmosClient, PartitionKey\n",
    "database_id = \"DewaDatabase\"\n",
    "container_id = \"userdata\""
   ]
  },
  {
   "cell_type": "code",
   "execution_count": 2,
   "metadata": {},
   "outputs": [],
   "source": [
    "user_data = {\n",
    "    \"user001\": {\n",
    "        \"user_name\": \"JohnDoe\",\n",
    "        \"password\": \"pass123\",\n",
    "        \"email_id\": \"johndoe@example.com\",\n",
    "        \"department\": \"HR\",\n",
    "        \"division\": \"Recruitment\",\n",
    "        \"added_on_date\": \"2023-09-13\",\n",
    "    },\n",
    "    \"user002\": {\n",
    "        \"user_name\": \"AliceSmith\",\n",
    "        \"password\": \"securePwd\",\n",
    "        \"email_id\": \"alice@example.com\",\n",
    "        \"department\": \"IT\",\n",
    "        \"division\": \"Development\",\n",
    "        \"added_on_date\": \"2023-09-13\",\n",
    "    },\n",
    "    \"user003\": {\n",
    "        \"user_name\": \"BobJohnson\",\n",
    "        \"password\": \"bobpass\",\n",
    "        \"email_id\": \"bob@example.com\",\n",
    "        \"department\": \"Finance\",\n",
    "        \"division\": \"Accounting\",\n",
    "        \"added_on_date\": \"2023-09-12\",\n",
    "    },\n",
    "    \"user004\": {\n",
    "        \"user_name\": \"EvaWilliams\",\n",
    "        \"password\": \"eva123\",\n",
    "        \"email_id\": \"eva@example.com\",\n",
    "        \"department\": \"Sales\",\n",
    "        \"division\": \"Marketing\",\n",
    "        \"added_on_date\": \"2023-09-12\",\n",
    "    },\n",
    "    \"user005\": {\n",
    "        \"user_name\": \"DavidBrown\",\n",
    "        \"password\": \"davidPwd\",\n",
    "        \"email_id\": \"david@example.com\",\n",
    "        \"department\": \"IT\",\n",
    "        \"division\": \"Infrastructure\",\n",
    "        \"added_on_date\": \"2023-09-11\",\n",
    "    },\n",
    "    \"user006\": {\n",
    "        \"user_name\": \"LindaMiller\",\n",
    "        \"password\": \"lindaPass\",\n",
    "        \"email_id\": \"linda@example.com\",\n",
    "        \"department\": \"Finance\",\n",
    "        \"division\": \"Budgeting\",\n",
    "        \"added_on_date\": \"2023-09-11\",\n",
    "    },\n",
    "    \"user007\": {\n",
    "        \"user_name\": \"FrankWilson\",\n",
    "        \"password\": \"frank123\",\n",
    "        \"email_id\": \"frank@example.com\",\n",
    "        \"department\": \"HR\",\n",
    "        \"division\": \"Training\",\n",
    "        \"added_on_date\": \"2023-09-10\",\n",
    "    },\n",
    "    \"user008\": {\n",
    "        \"user_name\": \"GraceDavis\",\n",
    "        \"password\": \"gracePwd\",\n",
    "        \"email_id\": \"grace@example.com\",\n",
    "        \"department\": \"IT\",\n",
    "        \"division\": \"Security\",\n",
    "        \"added_on_date\": \"2023-09-10\",\n",
    "    },\n",
    "    \"user009\": {\n",
    "        \"user_name\": \"MichaelLee\",\n",
    "        \"password\": \"michaelPass\",\n",
    "        \"email_id\": \"michael@example.com\",\n",
    "        \"department\": \"Sales\",\n",
    "        \"division\": \"Customer Relations\",\n",
    "        \"added_on_date\": \"2023-09-09\",\n",
    "    },\n",
    "    \"user010\": {\n",
    "        \"user_name\": \"SarahClark\",\n",
    "        \"password\": \"sarahPwd\",\n",
    "        \"email_id\": \"sarah@example.com\",\n",
    "        \"department\": \"Marketing\",\n",
    "        \"division\": \"Advertising\",\n",
    "        \"added_on_date\": \"2023-09-09\",\n",
    "    },\n",
    "}\n"
   ]
  },
  {
   "cell_type": "code",
   "execution_count": 3,
   "metadata": {},
   "outputs": [],
   "source": [
    "# Define your Azure Cosmos DB configuration\n",
    "endpoint = \"https://ct-uaen-poc-qna-cosno.documents.azure.com:443/\"\n",
    "key = \"V6hq4RNmKcD3c9c2jrCzZq6673hjpZNN7R9Of5tjnPNOuSFJLoBsFiIu9XsFSQc81I9tUMXssQKUACDbYM1zMg==\""
   ]
  },
  {
   "cell_type": "code",
   "execution_count": 8,
   "metadata": {},
   "outputs": [],
   "source": [
    "class cosmos_pipeline():\n",
    "    def __init__(self, key, endpoint, database_name, container_name):\n",
    "        self.key=key\n",
    "        self.endpoint=endpoint\n",
    "        self.client=CosmosClient(self.endpoint, self.key)\n",
    "        self.database = self.client.get_database_client(database_name)\n",
    "        self.container = self.database.get_container_client(container_name)\n",
    "    \n",
    "    def create_database(self, database_name):\n",
    "        # Create a database if it doesn't exist\n",
    "        database = self.client.create_database_if_not_exists(id=database_name)\n",
    "\n",
    "    def create_container(self, database_name, container_name):\n",
    "        # Create a database if it doesn't exist\n",
    "        database = self.client.create_database_if_not_exists(id=database_name)\n",
    "\n",
    "        # Create a container (table) within the database if it doesn't exist\n",
    "        container = database.create_container_if_not_exists(\n",
    "            id=container_id,\n",
    "            partition_key=PartitionKey(path=\"/partition_key_path\")\n",
    "        )\n",
    "\n",
    "        print(f\"Container '{container_id}' created successfully.\")\n",
    "    def upload_data(self, data):\n",
    "        # Insert data into the container\n",
    "        for key, value in data.items():\n",
    "            self.container.upsert_item({\"id\": key, \"value\": value})\n",
    "\n",
    "    def fetch_data(self, user_id):\n",
    "        # Define a query to retrieve a specific document by its key\n",
    "        query = f\"SELECT * FROM c WHERE c.id = '{user_id}'\"\n",
    "\n",
    "        # Execute the query to retrieve the document(s) with the matching key\n",
    "        items = list(self.container.query_items(query, enable_cross_partition_query=True))\n",
    "\n",
    "        # Check if any items were found\n",
    "        if items:\n",
    "            # Assuming there's only one matching document (key is unique)\n",
    "            item = items[0]\n",
    "            \n",
    "            # Extract the associated value\n",
    "            value = item.get(\"value\")\n",
    "            \n",
    "            return value\n",
    "        else:\n",
    "            print(f\"Key '{user_id}' not found in the container.\")\n",
    "\n",
    "    def fetch_specific_data(self, user_id, column_name):\n",
    "        # Define a query to retrieve a specific document by its key\n",
    "        query = f\"SELECT * FROM c WHERE c.id = '{user_id}'\"\n",
    "\n",
    "        # Execute the query to retrieve the document(s) with the matching key\n",
    "        items = list(self.container.query_items(query, enable_cross_partition_query=True))\n",
    "\n",
    "        # Check if any items were found\n",
    "        if items:\n",
    "            # Assuming there's only one matching document (key is unique)\n",
    "            item = items[0]\n",
    "            \n",
    "            # Extract the associated value\n",
    "            value = item.get(\"value\")\n",
    "\n",
    "            value=value[column_name]\n",
    "            \n",
    "            return value\n"
   ]
  },
  {
   "cell_type": "code",
   "execution_count": 10,
   "metadata": {},
   "outputs": [],
   "source": [
    "user_data=cosmos_pipeline(key, endpoint, \"DewaDatabase\", \"userdata\")"
   ]
  },
  {
   "cell_type": "code",
   "execution_count": 11,
   "metadata": {},
   "outputs": [
    {
     "data": {
      "text/plain": [
       "'johndoe@example.com'"
      ]
     },
     "execution_count": 11,
     "metadata": {},
     "output_type": "execute_result"
    }
   ],
   "source": [
    "user_data.fetch_specific_data('user001', 'email_id')"
   ]
  },
  {
   "cell_type": "code",
   "execution_count": null,
   "metadata": {},
   "outputs": [],
   "source": []
  },
  {
   "cell_type": "code",
   "execution_count": null,
   "metadata": {},
   "outputs": [],
   "source": []
  },
  {
   "cell_type": "code",
   "execution_count": null,
   "metadata": {},
   "outputs": [],
   "source": []
  },
  {
   "cell_type": "code",
   "execution_count": null,
   "metadata": {},
   "outputs": [],
   "source": []
  },
  {
   "cell_type": "code",
   "execution_count": null,
   "metadata": {},
   "outputs": [],
   "source": []
  },
  {
   "cell_type": "code",
   "execution_count": null,
   "metadata": {},
   "outputs": [],
   "source": []
  }
 ],
 "metadata": {
  "kernelspec": {
   "display_name": "Python 3 (ipykernel)",
   "language": "python",
   "name": "python3"
  },
  "language_info": {
   "codemirror_mode": {
    "name": "ipython",
    "version": 3
   },
   "file_extension": ".py",
   "mimetype": "text/x-python",
   "name": "python",
   "nbconvert_exporter": "python",
   "pygments_lexer": "ipython3",
   "version": "3.9.12"
  }
 },
 "nbformat": 4,
 "nbformat_minor": 2
}
